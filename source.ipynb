{
 "cells": [
  {
   "attachments": {},
   "cell_type": "markdown",
   "metadata": {},
   "source": [
    "# Right to Repair Movement Analysis📝\n",
    "\n",
    "![Banner](./assets/banner.jpeg)"
   ]
  },
  {
   "attachments": {},
   "cell_type": "markdown",
   "metadata": {},
   "source": [
    "## Topic\n",
    "*What problem are you (or your stakeholder) trying to address?*\n",
    "\n",
    "The social issue I am trying to address is the the Right to Repair Movement. The growing probelm at hand is in the modern construction and design of new vehciles today, being made so the average mechanic or even DIYer cannot work on or repair their own car without taking it to the manufacturer for speaclized work. By is a growing problem in the modern automotive industry as newer cars become more and more complex and complicated to work on and repair. With modules upon modules to service and scan that require dealer-only diagnostic equipment and software, this prevents many car owners from DIYers to small independent shops from servicing and working on their cars without taking them to the expensive dealership. "
   ]
  },
  {
   "attachments": {},
   "cell_type": "markdown",
   "metadata": {},
   "source": [
    "## Project Question\n",
    "*What specific question are you seeking to answer with this project?*\n",
    "*This is not the same as the questions you ask to limit the scope of the project.*\n",
    "\n",
    "The question I am seeking to answer is how much more expensive are dealerships in conjucnction with the growing requirement of proprietory software in cars compare to in cost of independent shops or even DIYers and what role can the Right to Repair Movement play in reducing those costs?"
   ]
  },
  {
   "attachments": {},
   "cell_type": "markdown",
   "metadata": {},
   "source": [
    "## What would an answer look like?\n",
    "*What is your hypothesized answer to your question?*\n",
    "\n",
    "The average cost of modern vehicles and repairs of newer cars have increase significantly. With the technological shift from mechanically driven, simple, and easy to work on cars that were once software dependent, have raised modern day repair costs and resticted consumer choice. The right to repair movement offers a solution to the growing complexity of modern construction automobiles by leveling the grounds between the big name dealerships and independent shops and DIYers, reducing the costs of repairs and giving vehicle owners a choice in where to service their vehicles. "
   ]
  },
  {
   "attachments": {},
   "cell_type": "markdown",
   "metadata": {},
   "source": [
    "## Data Sources\n",
    "*What 3 data sources have you identified for this project?*\n",
    "*How are you going to relate these datasets?*\n",
    "📝 <!-- Answer Below -->"
   ]
  },
  {
   "cell_type": "markdown",
   "metadata": {},
   "source": [
    "1. The first data source I am going to be using is the Vehicle Health Index by CarMD. This is going to provide me with information to show the costs of over older VS newer vehicles and their associated repair costs which shows how software dependencies can raise repair prices. I will relate this data source because it provides me with a breakdown in measuring the average annual repair costs among varying categories of repair and shows how the costs of automotive repair have increased over time. \n",
    "\n",
    "\n",
    "2. The second data source I will use is the Consumer Price Index for All Urban Consumers: Motor Vehicle Maintenance and Repair in U.S. City Average. This is going to show me the cost of vehicle maitenence by year to display the rising costs of automotive repair costs. This will be related by displaying with direct visual information how the costs of vehicle maitenence has increased throughout the years. \n",
    "\n",
    "3. The final data source i will be using is a database provided from kaggle.com, the \"Car Parts Price Estimation Dataset.\" This dataset will provide me with an example cost breakdown of the prices of commmon parts found to repair a Toyota Camry. This will display the increase in cost over a span of a few years. "
   ]
  },
  {
   "attachments": {},
   "cell_type": "markdown",
   "metadata": {},
   "source": [
    "## Approach and Analysis\n",
    "*What is your approach to answering your project question?*\n",
    "*How will you use the identified data to answer your project question?*\n",
    "\n",
    "The approach I have is to combine the cost data, and vehicle data to build a full picture of how repair costs have changed over time. I will demonstrate how repair costs have changed between older cars and newers cars over the last few years. Through the use of repair costs datasets I will measure how repair costs differ by the year and type of repairs performed. This will directly demonstrate how modern vehicles are more expensive to repair as compared to simpler and less complicated older vehicle models. "
   ]
  },
  {
   "cell_type": "code",
   "execution_count": null,
   "metadata": {},
   "outputs": [],
   "source": []
  },
  {
   "attachments": {},
   "cell_type": "markdown",
   "metadata": {},
   "source": [
    "## Resources and References\n",
    "*What resources and references have you used for this project?*\n",
    "📝 <!-- Answer Below -->"
   ]
  },
  {
   "cell_type": "code",
   "execution_count": null,
   "metadata": {
    "vscode": {
     "languageId": "markdown"
    }
   },
   "outputs": [],
   "source": [
    "https://carmd.com/pages/vehicle-health-index\n",
    "\n",
    "https://fred.stlouisfed.org/series/CUSR0000SETD\n",
    "\n",
    "https://www.kaggle.com/datasets/shorooq77/car-parts-price-estimation"
   ]
  },
  {
   "cell_type": "code",
   "execution_count": null,
   "metadata": {},
   "outputs": [],
   "source": []
  },
  {
   "cell_type": "code",
   "execution_count": 1,
   "metadata": {},
   "outputs": [
    {
     "name": "stderr",
     "output_type": "stream",
     "text": [
      "[NbConvertApp] Converting notebook source.ipynb to python\n",
      "[NbConvertApp] Writing 4643 bytes to source.py\n"
     ]
    }
   ],
   "source": [
    "# ⚠️ Make sure you run this cell at the end of your notebook before every submission!\n",
    "!jupyter nbconvert --to python source.ipynb"
   ]
  }
 ],
 "metadata": {
  "kernelspec": {
   "display_name": "3.12.0",
   "language": "python",
   "name": "python3"
  },
  "language_info": {
   "codemirror_mode": {
    "name": "ipython",
    "version": 3
   },
   "file_extension": ".py",
   "mimetype": "text/x-python",
   "name": "python",
   "nbconvert_exporter": "python",
   "pygments_lexer": "ipython3",
   "version": "3.12.0"
  },
  "orig_nbformat": 4
 },
 "nbformat": 4,
 "nbformat_minor": 2
}
